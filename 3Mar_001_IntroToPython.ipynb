{
  "nbformat": 4,
  "nbformat_minor": 0,
  "metadata": {
    "colab": {
      "provenance": [],
      "authorship_tag": "ABX9TyO/HhPM28d4JCasaHqj4vHa",
      "include_colab_link": true
    },
    "kernelspec": {
      "name": "python3",
      "display_name": "Python 3"
    },
    "language_info": {
      "name": "python"
    }
  },
  "cells": [
    {
      "cell_type": "markdown",
      "metadata": {
        "id": "view-in-github",
        "colab_type": "text"
      },
      "source": [
        "<a href=\"https://colab.research.google.com/github/a-forty-two/EY_batch11_3Mar/blob/main/3Mar_001_IntroToPython.ipynb\" target=\"_parent\"><img src=\"https://colab.research.google.com/assets/colab-badge.svg\" alt=\"Open In Colab\"/></a>"
      ]
    },
    {
      "cell_type": "code",
      "execution_count": 1,
      "metadata": {
        "colab": {
          "base_uri": "https://localhost:8080/"
        },
        "id": "-UckOmd_Txh-",
        "outputId": "4343e408-9ac8-4f73-d487-80f662d0c1f4"
      },
      "outputs": [
        {
          "output_type": "stream",
          "name": "stdout",
          "text": [
            "hello world\n"
          ]
        }
      ],
      "source": [
        "print('hello world')"
      ]
    },
    {
      "cell_type": "code",
      "source": [
        "# python-> precompiled C++ and C with a lot of pointer manipulation\n",
        "\n",
        "# Data Structures -> ???? -> In memory representation, Memory management\n",
        "# EASIER COMPUTATION -> Transactional (OLTP) and Analytical (OLAP)\n",
        "# Online Transactional Processes and Online Analytical Processes\n",
        "\n",
        "# OLTP v/s OLAP\n",
        "\n",
        "# Databases (SQL Server, MySQL, PostGre), V/S Data Lakes/Warehouses (SQL DW, Synapse,\n",
        "# HIVE, HBase, Spark, Hadoop, ....)\n",
        "\n",
        "# Real Time or recent data; v/s historical data\n",
        "\n",
        "# OLTP-> Normalization of databases; OLAP -> DENORMALIZATION\n",
        "# OLTP-> EDIT ; OLAP -> SEARCH\n",
        "\n",
        "# Size -> OLTP-> GBs to 3-4 TB; OLAP -> from TBs and ....\n",
        "\n",
        "# OLTP-> SQL (SQL Server, MySQL, PostGre) or NoSQL (MongoDB, Neo4J)\n",
        "# OLAP-> SQL (SQL DW, Hive) or NoSQL (HBase)\n",
        "\n",
        "# OLTP -> credentials, user data, ecommerce; OLAP-> logs, user transaction history,\n",
        "# products purchases\n",
        "\n",
        "# Data originates at OLTP and once it becomes a fact (NO MORE CHANGES), we\n",
        "# move it to OLAP\n",
        "\n",
        "# Clustered v/s Non Clustered Indexes\n",
        "#                     OLTP                      OLAP\n",
        "#                     Eager eval               Lazy Eval\n",
        "# a= 0      a=?       0                         True\n",
        "# b= 1      b=?       1                         True\n",
        "# c= a+b    c=?       1                         True\n",
        "# print(c). ???       \"1\"                       Execution() -> \"1\"\n",
        "\n",
        "# OLAP -> Lazy Eval-> Apache Spark (PySpark/Scala), TensorFlow,\n",
        "\n",
        "# OLTP-> we write code to do exact stuff; we tell HOW to do something\n",
        "# OLAP-> we tell the computer what to write; computer decides HOW to do it!\n",
        "\n"
      ],
      "metadata": {
        "id": "y-wJyEPCXE7D"
      },
      "execution_count": 3,
      "outputs": []
    },
    {
      "cell_type": "code",
      "source": [
        "# Big Data -> data too big for 1 machine\n",
        "# size of 1 machine -> only 2 numbers\n",
        "\n",
        "# 1, 2, 3 -> small or big ? -> BIG DATA\n",
        "\n",
        "# M1 - 1, 2    ------------- replication ----- m3 - 1, 2\n",
        "# m2 - 3                                       m4 - 3\n",
        "\n",
        "# SUM -> M1 = 1+2 = 3, M2 = 3; M1 + m2 = 6\n",
        "\n",
        "# sharding\n",
        "# M1 - 1, 2\n",
        "# M2 - 2, 3\n",
        "# M3 - 3, 1\n",
        "# SUM -> M1 - 3, M2 =5, M3=4, M1 + M2 +M3, = 12 ; 1 + 2 + 3 = 12\n",
        "\n",
        "# MapReduce -> map the problem to machines; LET THEM SOLVE; reduce the result\n",
        "\n"
      ],
      "metadata": {
        "id": "mZL9tfqyXFUB"
      },
      "execution_count": null,
      "outputs": []
    },
    {
      "cell_type": "code",
      "source": [
        "# edit -> replace 2 with 4\n",
        "\n",
        "# M1 - 1, 2    ------------- replication ----- m3 - 1, 2\n",
        "# m2 - 3                                       m4 - 3\n",
        "\n",
        "# assumption-every ops will take 1 second\n",
        "\n",
        "# OLTP\n",
        "# M1 - 1, 2    ------------- replication ----- m3 - 1, 2\n",
        "# m2 - 3                                       m4 - 3\n",
        "\n",
        "#         0     1     2     3\n",
        "# M1      NF    F     R     EOF\n",
        "# M2      NF    EOF\n",
        "\n",
        "\n",
        "# OLAP\n",
        "# M1 - 1, 2\n",
        "# M2 - 2, 3\n",
        "# M3 - 3, 1\n",
        "\n",
        "# edit -> replace 2 with 4\n",
        "#         0     1     2     3\n",
        "# M1      NF    F     R     EOF\n",
        "# M2      F     R     NF    EOF\n",
        "# M3      NF    NF    EOF"
      ],
      "metadata": {
        "id": "dw5vo0IGfgeC"
      },
      "execution_count": null,
      "outputs": []
    },
    {
      "cell_type": "code",
      "source": [
        "# Problem 2-> search for 2\n",
        "\n",
        "# M1 - 1, 2    ------------- replication ----- m3 - 1, 2\n",
        "# m2 - 3                                       m4 - 3\n",
        "\n",
        "# OLTP\n",
        "#         0     1\n",
        "# M1      NF    F\n",
        "# M2      NF    -\n",
        "\n",
        "\n",
        "# OLAP\n",
        "# M1 - 1, 2\n",
        "# M2 - 2, 3\n",
        "# M3 - 3, 1\n",
        "\n",
        "# M2 -> 0th second found!"
      ],
      "metadata": {
        "id": "1JLQMHEohGzo"
      },
      "execution_count": null,
      "outputs": []
    },
    {
      "cell_type": "code",
      "source": [
        "# OLTP -> Source of Data\n",
        "# OLAP -> Destination of data"
      ],
      "metadata": {
        "id": "CB9j3U-njc7T"
      },
      "execution_count": 4,
      "outputs": []
    },
    {
      "cell_type": "code",
      "source": [
        "# OLTP -> pollution data (data, CO, So2)\n",
        "# OLTP -> birth data (mortality rate)\n",
        "\n",
        "# OLAP -> relationship between pollution and mortality"
      ],
      "metadata": {
        "id": "P3hDdXdGjhOf"
      },
      "execution_count": null,
      "outputs": []
    },
    {
      "cell_type": "code",
      "source": [
        "# Python data structures\n",
        "\n",
        "# LIST - INDEXABLE, ORDERED\n",
        "\n",
        "a= [1, 'hello', 4.21, False, True]\n",
        "b = [a , a, 3]\n",
        "print(a)\n",
        "print(b)"
      ],
      "metadata": {
        "colab": {
          "base_uri": "https://localhost:8080/"
        },
        "id": "Q5IoBQvej2Mm",
        "outputId": "c225a1e9-9401-44a2-a94a-7a8f0e24a8d4"
      },
      "execution_count": 6,
      "outputs": [
        {
          "output_type": "stream",
          "name": "stdout",
          "text": [
            "[1, 'hello', 4.21, False, True]\n",
            "[[1, 'hello', 4.21, False, True], [1, 'hello', 4.21, False, True], 3]\n"
          ]
        }
      ]
    },
    {
      "cell_type": "code",
      "source": [
        "# ORDERED mean-> order will never change! first element will always\n",
        "# be before the second, .....\n",
        "\n",
        "# INDEXABLE -> a[0], b[1]\n",
        "a[1]"
      ],
      "metadata": {
        "colab": {
          "base_uri": "https://localhost:8080/",
          "height": 35
        },
        "id": "HQRjcsjRk4kj",
        "outputId": "2f2db284-ae28-4244-e01c-f476e275f3e0"
      },
      "execution_count": 7,
      "outputs": [
        {
          "output_type": "execute_result",
          "data": {
            "text/plain": [
              "'hello'"
            ],
            "application/vnd.google.colaboratory.intrinsic+json": {
              "type": "string"
            }
          },
          "metadata": {},
          "execution_count": 7
        }
      ]
    },
    {
      "cell_type": "code",
      "source": [
        "# Negative indexing\n",
        "a[-1] # last element"
      ],
      "metadata": {
        "colab": {
          "base_uri": "https://localhost:8080/"
        },
        "id": "sA7zhkiBlnLO",
        "outputId": "80503c31-b000-4a3c-bf40-5b4c6333ebf6"
      },
      "execution_count": 18,
      "outputs": [
        {
          "output_type": "execute_result",
          "data": {
            "text/plain": [
              "True"
            ]
          },
          "metadata": {},
          "execution_count": 18
        }
      ]
    },
    {
      "cell_type": "code",
      "source": [
        "# Range based indexing\n",
        "# [ from : to]\n",
        "a[1:3] # 1 included, 3 excluded"
      ],
      "metadata": {
        "colab": {
          "base_uri": "https://localhost:8080/"
        },
        "id": "CnVqkEs9ls34",
        "outputId": "7e0404f0-7cbe-4610-fcd1-dc61279aaadd"
      },
      "execution_count": 9,
      "outputs": [
        {
          "output_type": "execute_result",
          "data": {
            "text/plain": [
              "['hello', 4.21]"
            ]
          },
          "metadata": {},
          "execution_count": 9
        }
      ]
    },
    {
      "cell_type": "code",
      "source": [
        "a[2:-1] # from second, till last"
      ],
      "metadata": {
        "colab": {
          "base_uri": "https://localhost:8080/"
        },
        "id": "5QZDLzWGlx82",
        "outputId": "f12159b8-2faa-43f9-9548-fcce1c21f52d"
      },
      "execution_count": 11,
      "outputs": [
        {
          "output_type": "execute_result",
          "data": {
            "text/plain": [
              "[4.21, False]"
            ]
          },
          "metadata": {},
          "execution_count": 11
        }
      ]
    },
    {
      "cell_type": "code",
      "source": [
        "# SET\n",
        "# { apple, apple, banana }, {banana, apple, apple}, {banana, apple}\n",
        "\n",
        "# SETs do not allow duplication\n",
        "# SET there is NO ORDER, NO INDEX"
      ],
      "metadata": {
        "id": "yCdXmSoDl5wA"
      },
      "execution_count": 12,
      "outputs": []
    },
    {
      "cell_type": "code",
      "source": [
        "myset1 = {1, 2, 2,3}\n",
        "myset2 = {3,2,1}\n",
        "print(myset1)\n",
        "print(myset2)"
      ],
      "metadata": {
        "colab": {
          "base_uri": "https://localhost:8080/"
        },
        "id": "BUtqjJy8qSMU",
        "outputId": "cbfeae4a-74c3-4a8b-e232-2f7ce401b783"
      },
      "execution_count": 13,
      "outputs": [
        {
          "output_type": "stream",
          "name": "stdout",
          "text": [
            "{1, 2, 3}\n",
            "{1, 2, 3}\n"
          ]
        }
      ]
    },
    {
      "cell_type": "code",
      "source": [
        "myset1 = { 0, False, True, 1, 'hello', 42, 1,5, 0}\n",
        "print(myset1)"
      ],
      "metadata": {
        "colab": {
          "base_uri": "https://localhost:8080/"
        },
        "id": "eJUkaAugqYbE",
        "outputId": "a30ffe99-196d-4dc5-965f-c8df481107ed"
      },
      "execution_count": 14,
      "outputs": [
        {
          "output_type": "stream",
          "name": "stdout",
          "text": [
            "{0, True, 'hello', 5, 42}\n"
          ]
        }
      ]
    },
    {
      "cell_type": "code",
      "source": [],
      "metadata": {
        "id": "c6EOcuTtsEK0"
      },
      "execution_count": 16,
      "outputs": []
    },
    {
      "cell_type": "code",
      "source": [
        "# UNINDEXED -> ERROR\n",
        "myset1[0]"
      ],
      "metadata": {
        "colab": {
          "base_uri": "https://localhost:8080/",
          "height": 162
        },
        "id": "QMM9-zK2qkrQ",
        "outputId": "87ecddee-401e-4a78-940c-8175cf0ceaff"
      },
      "execution_count": 15,
      "outputs": [
        {
          "output_type": "error",
          "ename": "TypeError",
          "evalue": "'set' object is not subscriptable",
          "traceback": [
            "\u001b[0;31m---------------------------------------------------------------------------\u001b[0m",
            "\u001b[0;31mTypeError\u001b[0m                                 Traceback (most recent call last)",
            "\u001b[0;32m<ipython-input-15-53348c5f2d04>\u001b[0m in \u001b[0;36m<cell line: 0>\u001b[0;34m()\u001b[0m\n\u001b[1;32m      1\u001b[0m \u001b[0;31m# UNINDEXED -> ERROR\u001b[0m\u001b[0;34m\u001b[0m\u001b[0;34m\u001b[0m\u001b[0m\n\u001b[0;32m----> 2\u001b[0;31m \u001b[0mmyset1\u001b[0m\u001b[0;34m[\u001b[0m\u001b[0;36m0\u001b[0m\u001b[0;34m]\u001b[0m\u001b[0;34m\u001b[0m\u001b[0;34m\u001b[0m\u001b[0m\n\u001b[0m",
            "\u001b[0;31mTypeError\u001b[0m: 'set' object is not subscriptable"
          ]
        }
      ]
    },
    {
      "cell_type": "code",
      "source": [
        "# Tuple -> ( 1, 2, 3)\n",
        "# READONLY, INDEXED, ORDERED\n",
        "\n",
        "mytup = (1, 'hello', 42)\n"
      ],
      "metadata": {
        "id": "47dvz4gjqyc0"
      },
      "execution_count": 19,
      "outputs": []
    },
    {
      "cell_type": "code",
      "source": [
        "# ORDERED, INDEXED\n",
        "print(mytup), print(mytup[-1])"
      ],
      "metadata": {
        "colab": {
          "base_uri": "https://localhost:8080/"
        },
        "id": "X77ZJmfNshpq",
        "outputId": "bddb90f8-ce35-47e9-f45f-551b2370d368"
      },
      "execution_count": 21,
      "outputs": [
        {
          "output_type": "stream",
          "name": "stdout",
          "text": [
            "(1, 'hello', 42)\n",
            "42\n"
          ]
        },
        {
          "output_type": "execute_result",
          "data": {
            "text/plain": [
              "(None, None)"
            ]
          },
          "metadata": {},
          "execution_count": 21
        }
      ]
    },
    {
      "cell_type": "code",
      "source": [
        "# Non-editable/Readonly-> error\n",
        "mytup[0] = 'bye'"
      ],
      "metadata": {
        "colab": {
          "base_uri": "https://localhost:8080/",
          "height": 162
        },
        "id": "LokgLAjdsizT",
        "outputId": "c0d23c88-6a2f-4bb2-c986-81593a4a8625"
      },
      "execution_count": 22,
      "outputs": [
        {
          "output_type": "error",
          "ename": "TypeError",
          "evalue": "'tuple' object does not support item assignment",
          "traceback": [
            "\u001b[0;31m---------------------------------------------------------------------------\u001b[0m",
            "\u001b[0;31mTypeError\u001b[0m                                 Traceback (most recent call last)",
            "\u001b[0;32m<ipython-input-22-2c3b0773d775>\u001b[0m in \u001b[0;36m<cell line: 0>\u001b[0;34m()\u001b[0m\n\u001b[1;32m      1\u001b[0m \u001b[0;31m# Non-editable/Readonly-> error\u001b[0m\u001b[0;34m\u001b[0m\u001b[0;34m\u001b[0m\u001b[0m\n\u001b[0;32m----> 2\u001b[0;31m \u001b[0mmytup\u001b[0m\u001b[0;34m[\u001b[0m\u001b[0;36m0\u001b[0m\u001b[0;34m]\u001b[0m \u001b[0;34m=\u001b[0m \u001b[0;34m'bye'\u001b[0m\u001b[0;34m\u001b[0m\u001b[0;34m\u001b[0m\u001b[0m\n\u001b[0m",
            "\u001b[0;31mTypeError\u001b[0m: 'tuple' object does not support item assignment"
          ]
        }
      ]
    },
    {
      "cell_type": "code",
      "source": [
        "# arguments to a function -> args/params should be READONLY\n",
        "# size of an image-> (28, 28)\n",
        "\n",
        "# Pass by value; pass by reference\n",
        "\n",
        "# image_processing(input_img)-> return whether a face was found"
      ],
      "metadata": {
        "id": "ibWkhsA6srnP"
      },
      "execution_count": 23,
      "outputs": []
    },
    {
      "cell_type": "code",
      "source": [
        "# DICTIONARY -> SET with indexes; key-value pairs\n",
        "\n",
        "mydictionary = { 42: -1,\n",
        "                \"hello\": \"world\",\n",
        "                 \"set\": myset1,\n",
        "                 1: a}"
      ],
      "metadata": {
        "id": "fQYt9Uv2tiR5"
      },
      "execution_count": 24,
      "outputs": []
    },
    {
      "cell_type": "code",
      "source": [
        "mydictionary[42]"
      ],
      "metadata": {
        "colab": {
          "base_uri": "https://localhost:8080/"
        },
        "id": "FnPe1L-ot1A3",
        "outputId": "77472048-a1a4-4721-be7a-cf29fe39c8c2"
      },
      "execution_count": 25,
      "outputs": [
        {
          "output_type": "execute_result",
          "data": {
            "text/plain": [
              "-1"
            ]
          },
          "metadata": {},
          "execution_count": 25
        }
      ]
    },
    {
      "cell_type": "code",
      "source": [
        "mydictionary['set']"
      ],
      "metadata": {
        "colab": {
          "base_uri": "https://localhost:8080/"
        },
        "id": "kWSFH0QFt3gr",
        "outputId": "bc1be3da-ccb7-4a00-b927-0a5912028eeb"
      },
      "execution_count": 26,
      "outputs": [
        {
          "output_type": "execute_result",
          "data": {
            "text/plain": [
              "{0, 42, 5, True, 'hello'}"
            ]
          },
          "metadata": {},
          "execution_count": 26
        }
      ]
    },
    {
      "cell_type": "code",
      "source": [
        "# this is NOT integer based but KEY based indexing\n",
        "mydictionary[0] # 0 doesn't exist a key in our example!"
      ],
      "metadata": {
        "colab": {
          "base_uri": "https://localhost:8080/",
          "height": 162
        },
        "id": "oKbW111et7YR",
        "outputId": "b71af372-8522-495d-d614-82b39c566b15"
      },
      "execution_count": 27,
      "outputs": [
        {
          "output_type": "error",
          "ename": "KeyError",
          "evalue": "0",
          "traceback": [
            "\u001b[0;31m---------------------------------------------------------------------------\u001b[0m",
            "\u001b[0;31mKeyError\u001b[0m                                  Traceback (most recent call last)",
            "\u001b[0;32m<ipython-input-27-66b3b0c36a67>\u001b[0m in \u001b[0;36m<cell line: 0>\u001b[0;34m()\u001b[0m\n\u001b[1;32m      1\u001b[0m \u001b[0;31m# this is NOT integer based but KEY based indexing\u001b[0m\u001b[0;34m\u001b[0m\u001b[0;34m\u001b[0m\u001b[0m\n\u001b[0;32m----> 2\u001b[0;31m \u001b[0mmydictionary\u001b[0m\u001b[0;34m[\u001b[0m\u001b[0;36m0\u001b[0m\u001b[0;34m]\u001b[0m \u001b[0;31m# 0 doesn't exist a key in our example!\u001b[0m\u001b[0;34m\u001b[0m\u001b[0;34m\u001b[0m\u001b[0m\n\u001b[0m",
            "\u001b[0;31mKeyError\u001b[0m: 0"
          ]
        }
      ]
    },
    {
      "cell_type": "code",
      "source": [
        "names = ['John', 'Tom', 'Jenny', 'Billu']\n",
        "ages = [10, 20, 10, 20]\n",
        "roll_num = [12,123,31,41]\n",
        "\n",
        "data = {\n",
        "    \"name\": names,\n",
        "    \"age\" : ages,\n",
        "    \"id\" : roll_num,\n",
        "    \"hobby\": None\n",
        "}"
      ],
      "metadata": {
        "id": "CiItr7r7uKDV"
      },
      "execution_count": 39,
      "outputs": []
    },
    {
      "cell_type": "code",
      "source": [
        "data"
      ],
      "metadata": {
        "colab": {
          "base_uri": "https://localhost:8080/"
        },
        "id": "Dl_cSoIOuiJ4",
        "outputId": "35fa17be-679b-44d8-e471-fd4a12f01f6c"
      },
      "execution_count": 40,
      "outputs": [
        {
          "output_type": "execute_result",
          "data": {
            "text/plain": [
              "{'name': ['John', 'Tom', 'Jenny', 'Billu'],\n",
              " 'age': [10, 20, 10, 20],\n",
              " 'id': [12, 123, 31, 41],\n",
              " 'hobby': None}"
            ]
          },
          "metadata": {},
          "execution_count": 40
        }
      ]
    },
    {
      "cell_type": "code",
      "source": [
        "# PANDAS -> panel dataframes\n",
        "import pandas as pd\n",
        "df = pd.DataFrame(data)"
      ],
      "metadata": {
        "id": "eSJMraLauim4"
      },
      "execution_count": 41,
      "outputs": []
    },
    {
      "cell_type": "code",
      "source": [
        "df"
      ],
      "metadata": {
        "colab": {
          "base_uri": "https://localhost:8080/",
          "height": 175
        },
        "id": "L33dq9RmuzAc",
        "outputId": "77476466-e3f3-4fb3-e3c0-2093e428b71f"
      },
      "execution_count": 42,
      "outputs": [
        {
          "output_type": "execute_result",
          "data": {
            "text/plain": [
              "    name  age   id hobby\n",
              "0   John   10   12  None\n",
              "1    Tom   20  123  None\n",
              "2  Jenny   10   31  None\n",
              "3  Billu   20   41  None"
            ],
            "text/html": [
              "\n",
              "  <div id=\"df-4e7df367-3626-4ebb-9e50-ff8e447977be\" class=\"colab-df-container\">\n",
              "    <div>\n",
              "<style scoped>\n",
              "    .dataframe tbody tr th:only-of-type {\n",
              "        vertical-align: middle;\n",
              "    }\n",
              "\n",
              "    .dataframe tbody tr th {\n",
              "        vertical-align: top;\n",
              "    }\n",
              "\n",
              "    .dataframe thead th {\n",
              "        text-align: right;\n",
              "    }\n",
              "</style>\n",
              "<table border=\"1\" class=\"dataframe\">\n",
              "  <thead>\n",
              "    <tr style=\"text-align: right;\">\n",
              "      <th></th>\n",
              "      <th>name</th>\n",
              "      <th>age</th>\n",
              "      <th>id</th>\n",
              "      <th>hobby</th>\n",
              "    </tr>\n",
              "  </thead>\n",
              "  <tbody>\n",
              "    <tr>\n",
              "      <th>0</th>\n",
              "      <td>John</td>\n",
              "      <td>10</td>\n",
              "      <td>12</td>\n",
              "      <td>None</td>\n",
              "    </tr>\n",
              "    <tr>\n",
              "      <th>1</th>\n",
              "      <td>Tom</td>\n",
              "      <td>20</td>\n",
              "      <td>123</td>\n",
              "      <td>None</td>\n",
              "    </tr>\n",
              "    <tr>\n",
              "      <th>2</th>\n",
              "      <td>Jenny</td>\n",
              "      <td>10</td>\n",
              "      <td>31</td>\n",
              "      <td>None</td>\n",
              "    </tr>\n",
              "    <tr>\n",
              "      <th>3</th>\n",
              "      <td>Billu</td>\n",
              "      <td>20</td>\n",
              "      <td>41</td>\n",
              "      <td>None</td>\n",
              "    </tr>\n",
              "  </tbody>\n",
              "</table>\n",
              "</div>\n",
              "    <div class=\"colab-df-buttons\">\n",
              "\n",
              "  <div class=\"colab-df-container\">\n",
              "    <button class=\"colab-df-convert\" onclick=\"convertToInteractive('df-4e7df367-3626-4ebb-9e50-ff8e447977be')\"\n",
              "            title=\"Convert this dataframe to an interactive table.\"\n",
              "            style=\"display:none;\">\n",
              "\n",
              "  <svg xmlns=\"http://www.w3.org/2000/svg\" height=\"24px\" viewBox=\"0 -960 960 960\">\n",
              "    <path d=\"M120-120v-720h720v720H120Zm60-500h600v-160H180v160Zm220 220h160v-160H400v160Zm0 220h160v-160H400v160ZM180-400h160v-160H180v160Zm440 0h160v-160H620v160ZM180-180h160v-160H180v160Zm440 0h160v-160H620v160Z\"/>\n",
              "  </svg>\n",
              "    </button>\n",
              "\n",
              "  <style>\n",
              "    .colab-df-container {\n",
              "      display:flex;\n",
              "      gap: 12px;\n",
              "    }\n",
              "\n",
              "    .colab-df-convert {\n",
              "      background-color: #E8F0FE;\n",
              "      border: none;\n",
              "      border-radius: 50%;\n",
              "      cursor: pointer;\n",
              "      display: none;\n",
              "      fill: #1967D2;\n",
              "      height: 32px;\n",
              "      padding: 0 0 0 0;\n",
              "      width: 32px;\n",
              "    }\n",
              "\n",
              "    .colab-df-convert:hover {\n",
              "      background-color: #E2EBFA;\n",
              "      box-shadow: 0px 1px 2px rgba(60, 64, 67, 0.3), 0px 1px 3px 1px rgba(60, 64, 67, 0.15);\n",
              "      fill: #174EA6;\n",
              "    }\n",
              "\n",
              "    .colab-df-buttons div {\n",
              "      margin-bottom: 4px;\n",
              "    }\n",
              "\n",
              "    [theme=dark] .colab-df-convert {\n",
              "      background-color: #3B4455;\n",
              "      fill: #D2E3FC;\n",
              "    }\n",
              "\n",
              "    [theme=dark] .colab-df-convert:hover {\n",
              "      background-color: #434B5C;\n",
              "      box-shadow: 0px 1px 3px 1px rgba(0, 0, 0, 0.15);\n",
              "      filter: drop-shadow(0px 1px 2px rgba(0, 0, 0, 0.3));\n",
              "      fill: #FFFFFF;\n",
              "    }\n",
              "  </style>\n",
              "\n",
              "    <script>\n",
              "      const buttonEl =\n",
              "        document.querySelector('#df-4e7df367-3626-4ebb-9e50-ff8e447977be button.colab-df-convert');\n",
              "      buttonEl.style.display =\n",
              "        google.colab.kernel.accessAllowed ? 'block' : 'none';\n",
              "\n",
              "      async function convertToInteractive(key) {\n",
              "        const element = document.querySelector('#df-4e7df367-3626-4ebb-9e50-ff8e447977be');\n",
              "        const dataTable =\n",
              "          await google.colab.kernel.invokeFunction('convertToInteractive',\n",
              "                                                    [key], {});\n",
              "        if (!dataTable) return;\n",
              "\n",
              "        const docLinkHtml = 'Like what you see? Visit the ' +\n",
              "          '<a target=\"_blank\" href=https://colab.research.google.com/notebooks/data_table.ipynb>data table notebook</a>'\n",
              "          + ' to learn more about interactive tables.';\n",
              "        element.innerHTML = '';\n",
              "        dataTable['output_type'] = 'display_data';\n",
              "        await google.colab.output.renderOutput(dataTable, element);\n",
              "        const docLink = document.createElement('div');\n",
              "        docLink.innerHTML = docLinkHtml;\n",
              "        element.appendChild(docLink);\n",
              "      }\n",
              "    </script>\n",
              "  </div>\n",
              "\n",
              "\n",
              "<div id=\"df-920627bb-2210-49ad-8c2e-07b8f29a025b\">\n",
              "  <button class=\"colab-df-quickchart\" onclick=\"quickchart('df-920627bb-2210-49ad-8c2e-07b8f29a025b')\"\n",
              "            title=\"Suggest charts\"\n",
              "            style=\"display:none;\">\n",
              "\n",
              "<svg xmlns=\"http://www.w3.org/2000/svg\" height=\"24px\"viewBox=\"0 0 24 24\"\n",
              "     width=\"24px\">\n",
              "    <g>\n",
              "        <path d=\"M19 3H5c-1.1 0-2 .9-2 2v14c0 1.1.9 2 2 2h14c1.1 0 2-.9 2-2V5c0-1.1-.9-2-2-2zM9 17H7v-7h2v7zm4 0h-2V7h2v10zm4 0h-2v-4h2v4z\"/>\n",
              "    </g>\n",
              "</svg>\n",
              "  </button>\n",
              "\n",
              "<style>\n",
              "  .colab-df-quickchart {\n",
              "      --bg-color: #E8F0FE;\n",
              "      --fill-color: #1967D2;\n",
              "      --hover-bg-color: #E2EBFA;\n",
              "      --hover-fill-color: #174EA6;\n",
              "      --disabled-fill-color: #AAA;\n",
              "      --disabled-bg-color: #DDD;\n",
              "  }\n",
              "\n",
              "  [theme=dark] .colab-df-quickchart {\n",
              "      --bg-color: #3B4455;\n",
              "      --fill-color: #D2E3FC;\n",
              "      --hover-bg-color: #434B5C;\n",
              "      --hover-fill-color: #FFFFFF;\n",
              "      --disabled-bg-color: #3B4455;\n",
              "      --disabled-fill-color: #666;\n",
              "  }\n",
              "\n",
              "  .colab-df-quickchart {\n",
              "    background-color: var(--bg-color);\n",
              "    border: none;\n",
              "    border-radius: 50%;\n",
              "    cursor: pointer;\n",
              "    display: none;\n",
              "    fill: var(--fill-color);\n",
              "    height: 32px;\n",
              "    padding: 0;\n",
              "    width: 32px;\n",
              "  }\n",
              "\n",
              "  .colab-df-quickchart:hover {\n",
              "    background-color: var(--hover-bg-color);\n",
              "    box-shadow: 0 1px 2px rgba(60, 64, 67, 0.3), 0 1px 3px 1px rgba(60, 64, 67, 0.15);\n",
              "    fill: var(--button-hover-fill-color);\n",
              "  }\n",
              "\n",
              "  .colab-df-quickchart-complete:disabled,\n",
              "  .colab-df-quickchart-complete:disabled:hover {\n",
              "    background-color: var(--disabled-bg-color);\n",
              "    fill: var(--disabled-fill-color);\n",
              "    box-shadow: none;\n",
              "  }\n",
              "\n",
              "  .colab-df-spinner {\n",
              "    border: 2px solid var(--fill-color);\n",
              "    border-color: transparent;\n",
              "    border-bottom-color: var(--fill-color);\n",
              "    animation:\n",
              "      spin 1s steps(1) infinite;\n",
              "  }\n",
              "\n",
              "  @keyframes spin {\n",
              "    0% {\n",
              "      border-color: transparent;\n",
              "      border-bottom-color: var(--fill-color);\n",
              "      border-left-color: var(--fill-color);\n",
              "    }\n",
              "    20% {\n",
              "      border-color: transparent;\n",
              "      border-left-color: var(--fill-color);\n",
              "      border-top-color: var(--fill-color);\n",
              "    }\n",
              "    30% {\n",
              "      border-color: transparent;\n",
              "      border-left-color: var(--fill-color);\n",
              "      border-top-color: var(--fill-color);\n",
              "      border-right-color: var(--fill-color);\n",
              "    }\n",
              "    40% {\n",
              "      border-color: transparent;\n",
              "      border-right-color: var(--fill-color);\n",
              "      border-top-color: var(--fill-color);\n",
              "    }\n",
              "    60% {\n",
              "      border-color: transparent;\n",
              "      border-right-color: var(--fill-color);\n",
              "    }\n",
              "    80% {\n",
              "      border-color: transparent;\n",
              "      border-right-color: var(--fill-color);\n",
              "      border-bottom-color: var(--fill-color);\n",
              "    }\n",
              "    90% {\n",
              "      border-color: transparent;\n",
              "      border-bottom-color: var(--fill-color);\n",
              "    }\n",
              "  }\n",
              "</style>\n",
              "\n",
              "  <script>\n",
              "    async function quickchart(key) {\n",
              "      const quickchartButtonEl =\n",
              "        document.querySelector('#' + key + ' button');\n",
              "      quickchartButtonEl.disabled = true;  // To prevent multiple clicks.\n",
              "      quickchartButtonEl.classList.add('colab-df-spinner');\n",
              "      try {\n",
              "        const charts = await google.colab.kernel.invokeFunction(\n",
              "            'suggestCharts', [key], {});\n",
              "      } catch (error) {\n",
              "        console.error('Error during call to suggestCharts:', error);\n",
              "      }\n",
              "      quickchartButtonEl.classList.remove('colab-df-spinner');\n",
              "      quickchartButtonEl.classList.add('colab-df-quickchart-complete');\n",
              "    }\n",
              "    (() => {\n",
              "      let quickchartButtonEl =\n",
              "        document.querySelector('#df-920627bb-2210-49ad-8c2e-07b8f29a025b button');\n",
              "      quickchartButtonEl.style.display =\n",
              "        google.colab.kernel.accessAllowed ? 'block' : 'none';\n",
              "    })();\n",
              "  </script>\n",
              "</div>\n",
              "\n",
              "  <div id=\"id_6014c506-883e-43c6-b1fe-40d921af34e9\">\n",
              "    <style>\n",
              "      .colab-df-generate {\n",
              "        background-color: #E8F0FE;\n",
              "        border: none;\n",
              "        border-radius: 50%;\n",
              "        cursor: pointer;\n",
              "        display: none;\n",
              "        fill: #1967D2;\n",
              "        height: 32px;\n",
              "        padding: 0 0 0 0;\n",
              "        width: 32px;\n",
              "      }\n",
              "\n",
              "      .colab-df-generate:hover {\n",
              "        background-color: #E2EBFA;\n",
              "        box-shadow: 0px 1px 2px rgba(60, 64, 67, 0.3), 0px 1px 3px 1px rgba(60, 64, 67, 0.15);\n",
              "        fill: #174EA6;\n",
              "      }\n",
              "\n",
              "      [theme=dark] .colab-df-generate {\n",
              "        background-color: #3B4455;\n",
              "        fill: #D2E3FC;\n",
              "      }\n",
              "\n",
              "      [theme=dark] .colab-df-generate:hover {\n",
              "        background-color: #434B5C;\n",
              "        box-shadow: 0px 1px 3px 1px rgba(0, 0, 0, 0.15);\n",
              "        filter: drop-shadow(0px 1px 2px rgba(0, 0, 0, 0.3));\n",
              "        fill: #FFFFFF;\n",
              "      }\n",
              "    </style>\n",
              "    <button class=\"colab-df-generate\" onclick=\"generateWithVariable('df')\"\n",
              "            title=\"Generate code using this dataframe.\"\n",
              "            style=\"display:none;\">\n",
              "\n",
              "  <svg xmlns=\"http://www.w3.org/2000/svg\" height=\"24px\"viewBox=\"0 0 24 24\"\n",
              "       width=\"24px\">\n",
              "    <path d=\"M7,19H8.4L18.45,9,17,7.55,7,17.6ZM5,21V16.75L18.45,3.32a2,2,0,0,1,2.83,0l1.4,1.43a1.91,1.91,0,0,1,.58,1.4,1.91,1.91,0,0,1-.58,1.4L9.25,21ZM18.45,9,17,7.55Zm-12,3A5.31,5.31,0,0,0,4.9,8.1,5.31,5.31,0,0,0,1,6.5,5.31,5.31,0,0,0,4.9,4.9,5.31,5.31,0,0,0,6.5,1,5.31,5.31,0,0,0,8.1,4.9,5.31,5.31,0,0,0,12,6.5,5.46,5.46,0,0,0,6.5,12Z\"/>\n",
              "  </svg>\n",
              "    </button>\n",
              "    <script>\n",
              "      (() => {\n",
              "      const buttonEl =\n",
              "        document.querySelector('#id_6014c506-883e-43c6-b1fe-40d921af34e9 button.colab-df-generate');\n",
              "      buttonEl.style.display =\n",
              "        google.colab.kernel.accessAllowed ? 'block' : 'none';\n",
              "\n",
              "      buttonEl.onclick = () => {\n",
              "        google.colab.notebook.generateWithVariable('df');\n",
              "      }\n",
              "      })();\n",
              "    </script>\n",
              "  </div>\n",
              "\n",
              "    </div>\n",
              "  </div>\n"
            ],
            "application/vnd.google.colaboratory.intrinsic+json": {
              "type": "dataframe",
              "variable_name": "df",
              "repr_error": "Out of range float values are not JSON compliant: nan"
            }
          },
          "metadata": {},
          "execution_count": 42
        }
      ]
    },
    {
      "cell_type": "code",
      "source": [
        "# 4 data structures:\n",
        "\n",
        "# List -> [ ] -> ordered, indexed, editable\n",
        "# Tuple -> ( ) -> ordered, indexed, READONLY\n",
        "# Set -> { } -> UNORDERED, UNINDEXED, editable\n",
        "# Dictionary -> { } -> UNORDERED, INDEXED, editable"
      ],
      "metadata": {
        "id": "ZYjPNZqfuzch"
      },
      "execution_count": 43,
      "outputs": []
    },
    {
      "cell_type": "code",
      "source": [
        "# looping\n",
        "mylist = [1, 2,3]\n",
        "mydictionary = { \"a\": \"b\", 42:24, False: 24}"
      ],
      "metadata": {
        "id": "yN9blM1LvddK"
      },
      "execution_count": 56,
      "outputs": []
    },
    {
      "cell_type": "code",
      "source": [
        "# crude way\n",
        "for i in mylist:\n",
        "  print(i)"
      ],
      "metadata": {
        "colab": {
          "base_uri": "https://localhost:8080/"
        },
        "id": "cnjYcsusvqsS",
        "outputId": "a6dda2d9-fc6b-4301-e1ca-29208f752a72"
      },
      "execution_count": 57,
      "outputs": [
        {
          "output_type": "stream",
          "name": "stdout",
          "text": [
            "1\n",
            "2\n",
            "3\n"
          ]
        }
      ]
    },
    {
      "cell_type": "code",
      "source": [
        "# crude way\n",
        "for key,value in mydictionary.items():\n",
        "  print(str(key) + \" : \" + str(value))"
      ],
      "metadata": {
        "colab": {
          "base_uri": "https://localhost:8080/"
        },
        "id": "aOUQn_KTvvcI",
        "outputId": "12d5722f-4749-4b84-f2d2-31d07b6ede5b"
      },
      "execution_count": 52,
      "outputs": [
        {
          "output_type": "stream",
          "name": "stdout",
          "text": [
            "a : b\n",
            "42 : 24\n",
            "False : True\n"
          ]
        }
      ]
    },
    {
      "cell_type": "code",
      "source": [
        "# COMPREHENSION -> looping in a very straightforward syntax\n",
        "# LIST COMPREHENSION, DICTIONARY COMPREHENSION\n",
        "\n",
        "# syntax-> [ what_to_do_with_variable for variable in structure ]\n",
        "\n",
        "# add 1 to every value of mylist\n",
        "\n",
        "newlist = [val+1 for val in mylist]\n"
      ],
      "metadata": {
        "id": "M0qBesliv67k"
      },
      "execution_count": 53,
      "outputs": []
    },
    {
      "cell_type": "code",
      "source": [
        "print(newlist)"
      ],
      "metadata": {
        "colab": {
          "base_uri": "https://localhost:8080/"
        },
        "id": "qLeAqaC6wYQH",
        "outputId": "dafdc3b8-724c-4454-f303-c06e2e4065bd"
      },
      "execution_count": 54,
      "outputs": [
        {
          "output_type": "stream",
          "name": "stdout",
          "text": [
            "[2, 3, 4]\n"
          ]
        }
      ]
    },
    {
      "cell_type": "code",
      "source": [
        "# in dictionary, i want reversal-> keys should become value, value should be key!\n",
        "\n",
        "dc2 = {value:key for key,value in mydictionary.items()}\n",
        "print(dc2)"
      ],
      "metadata": {
        "colab": {
          "base_uri": "https://localhost:8080/"
        },
        "id": "99O1xesGwZMq",
        "outputId": "b91be7a3-5d2f-49cc-850b-5279a4797841"
      },
      "execution_count": 58,
      "outputs": [
        {
          "output_type": "stream",
          "name": "stdout",
          "text": [
            "{'b': 'a', 24: False}\n"
          ]
        }
      ]
    },
    {
      "cell_type": "code",
      "source": [
        "# what if i wanted a list inside tuple\n",
        "mytup = ( {1,2,3}, [1,2,3], 42, 23)"
      ],
      "metadata": {
        "id": "NCQaaavRw-dw"
      },
      "execution_count": 59,
      "outputs": []
    },
    {
      "cell_type": "code",
      "source": [
        "# what if i wanted a list inside set\n",
        "myset = { (1,2,3), [1,2,3], 42, 23}"
      ],
      "metadata": {
        "colab": {
          "base_uri": "https://localhost:8080/",
          "height": 162
        },
        "id": "zz4DoI9bxmIY",
        "outputId": "4802d47a-ea6e-4d5c-dfa0-ecbb0d44e3f7"
      },
      "execution_count": 60,
      "outputs": [
        {
          "output_type": "error",
          "ename": "TypeError",
          "evalue": "unhashable type: 'list'",
          "traceback": [
            "\u001b[0;31m---------------------------------------------------------------------------\u001b[0m",
            "\u001b[0;31mTypeError\u001b[0m                                 Traceback (most recent call last)",
            "\u001b[0;32m<ipython-input-60-053491469323>\u001b[0m in \u001b[0;36m<cell line: 0>\u001b[0;34m()\u001b[0m\n\u001b[1;32m      1\u001b[0m \u001b[0;31m# what if i wanted a tuple inside set\u001b[0m\u001b[0;34m\u001b[0m\u001b[0;34m\u001b[0m\u001b[0m\n\u001b[0;32m----> 2\u001b[0;31m \u001b[0mmyset\u001b[0m \u001b[0;34m=\u001b[0m \u001b[0;34m{\u001b[0m \u001b[0;34m(\u001b[0m\u001b[0;36m1\u001b[0m\u001b[0;34m,\u001b[0m\u001b[0;36m2\u001b[0m\u001b[0;34m,\u001b[0m\u001b[0;36m3\u001b[0m\u001b[0;34m)\u001b[0m\u001b[0;34m,\u001b[0m \u001b[0;34m[\u001b[0m\u001b[0;36m1\u001b[0m\u001b[0;34m,\u001b[0m\u001b[0;36m2\u001b[0m\u001b[0;34m,\u001b[0m\u001b[0;36m3\u001b[0m\u001b[0;34m]\u001b[0m\u001b[0;34m,\u001b[0m \u001b[0;36m42\u001b[0m\u001b[0;34m,\u001b[0m \u001b[0;36m23\u001b[0m\u001b[0;34m}\u001b[0m\u001b[0;34m\u001b[0m\u001b[0;34m\u001b[0m\u001b[0m\n\u001b[0m",
            "\u001b[0;31mTypeError\u001b[0m: unhashable type: 'list'"
          ]
        }
      ]
    },
    {
      "cell_type": "code",
      "source": [
        "# what if i wanted a set inside list\n",
        "mylist = [ {3,2,3}, (1,2,3), 42, 23]"
      ],
      "metadata": {
        "id": "DAGfpIFOxrax"
      },
      "execution_count": 62,
      "outputs": []
    },
    {
      "cell_type": "code",
      "source": [
        "mylist[0]"
      ],
      "metadata": {
        "colab": {
          "base_uri": "https://localhost:8080/"
        },
        "id": "lJnrepmUx97-",
        "outputId": "d923a487-13ea-43e3-e220-6b640491c0ba"
      },
      "execution_count": 63,
      "outputs": [
        {
          "output_type": "execute_result",
          "data": {
            "text/plain": [
              "{2, 3}"
            ]
          },
          "metadata": {},
          "execution_count": 63
        }
      ]
    },
    {
      "cell_type": "code",
      "source": [],
      "metadata": {
        "id": "RBJQIezYyCjo"
      },
      "execution_count": null,
      "outputs": []
    }
  ]
}